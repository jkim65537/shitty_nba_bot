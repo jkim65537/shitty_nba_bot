{
 "cells": [
  {
   "cell_type": "code",
   "execution_count": 1,
   "metadata": {
    "collapsed": false
   },
   "outputs": [],
   "source": [
    "import sys\n",
    "import praw"
   ]
  },
  {
   "cell_type": "code",
   "execution_count": 2,
   "metadata": {},
   "outputs": [],
   "source": [
    "import configure\n",
    "import DICTS\n",
    "import UTILS"
   ]
  },
  {
   "cell_type": "code",
   "execution_count": 4,
   "metadata": {},
   "outputs": [],
   "source": [
    "from nba_bot import nba_stat_bot"
   ]
  },
  {
   "cell_type": "code",
   "execution_count": 5,
   "metadata": {},
   "outputs": [],
   "source": [
    "from nba_bot import nba_stat_bot\n",
    "bot = nba_stat_bot()\n",
    "bot.run()"
   ]
  },
  {
   "cell_type": "code",
   "execution_count": null,
   "metadata": {},
   "outputs": [],
   "source": [
    "bot.run()"
   ]
  },
  {
   "cell_type": "code",
   "execution_count": 21,
   "metadata": {},
   "outputs": [],
   "source": [
    "comment = \"Hey nba stat bot: who led in points in season 2003?\""
   ]
  },
  {
   "cell_type": "code",
   "execution_count": 28,
   "metadata": {},
   "outputs": [],
   "source": [
    "def it_calls_nba_stat_bot(comment):\n",
    "    comment = comment.lower()\n",
    "    if \"nba_stat_bot\" in comment or \\\n",
    "            \"nba stat bot\" in comment:\n",
    "        return True\n",
    "    else:\n",
    "        return False"
   ]
  },
  {
   "cell_type": "code",
   "execution_count": 13,
   "metadata": {},
   "outputs": [],
   "source": [
    "def parse_comment(comment):\n",
    "    comment = comment.lower()\n",
    "    stat = comment.split(\"who led in \",1)[1].split()[0]\n",
    "    season = comment.split(\"in season \",1)[1].split()[0]\\\n",
    "                .replace(\"?\", \"\")\n",
    "    season_plus_one = str(int(season) + 1)[2:]\n",
    "    \n",
    "    return stat, season + \"-\" + season_plus_one"
   ]
  },
  {
   "cell_type": "code",
   "execution_count": 26,
   "metadata": {},
   "outputs": [],
   "source": [
    "def get_leader_stats(stat, season):\n",
    "    leaders = category_leaders()\n",
    "    assist_leaders = leaders.get_data(stat_cat=stat, \n",
    "                                      season=season)\n",
    "    stat = DICTS.StatCategory[stat]\n",
    "    player_name = assist_leaders[:1][\"PLAYER\"]\n",
    "    \n",
    "    #calculate the per game stat for these stats\n",
    "    stats_need_div = [\"OREB\",\"DREB\",\"REB\",\"AST\",\n",
    "                      \"STL\",\"BLK\",\"TOV\",\"PTS\"]\n",
    "    if stat in stats_need_div:\n",
    "        player_stat = assist_leaders[:1][stat] / \\\n",
    "                        assist_leaders[:1][\"GP\"]\n",
    "    else:\n",
    "        player_stat = assist_leaders[:1][stat]\n",
    "    \n",
    "    return player_name[0], player_stat[0]"
   ]
  },
  {
   "cell_type": "code",
   "execution_count": 22,
   "metadata": {},
   "outputs": [],
   "source": [
    "stat, season = parse_comment(comment)"
   ]
  },
  {
   "cell_type": "code",
   "execution_count": 23,
   "metadata": {},
   "outputs": [
    {
     "data": {
      "text/plain": [
       "'points'"
      ]
     },
     "execution_count": 23,
     "metadata": {},
     "output_type": "execute_result"
    }
   ],
   "source": [
    "stat"
   ]
  },
  {
   "cell_type": "code",
   "execution_count": 24,
   "metadata": {},
   "outputs": [
    {
     "data": {
      "text/plain": [
       "'2003-04'"
      ]
     },
     "execution_count": 24,
     "metadata": {},
     "output_type": "execute_result"
    }
   ],
   "source": [
    "season"
   ]
  },
  {
   "cell_type": "code",
   "execution_count": 15,
   "metadata": {},
   "outputs": [
    {
     "data": {
      "text/plain": [
       "('points', '2011-12')"
      ]
     },
     "execution_count": 15,
     "metadata": {},
     "output_type": "execute_result"
    }
   ],
   "source": [
    "comm"
   ]
  },
  {
   "cell_type": "code",
   "execution_count": 29,
   "metadata": {},
   "outputs": [
    {
     "data": {
      "text/plain": [
       "('Kevin Garnett', 24.23170731707317)"
      ]
     },
     "execution_count": 29,
     "metadata": {},
     "output_type": "execute_result"
    }
   ],
   "source": [
    "get_leader_stats(stat, season)"
   ]
  },
  {
   "cell_type": "code",
   "execution_count": 29,
   "metadata": {},
   "outputs": [
    {
     "data": {
      "text/plain": [
       "True"
      ]
     },
     "execution_count": 29,
     "metadata": {},
     "output_type": "execute_result"
    }
   ],
   "source": [
    "it_calls_nba_stat_bot(comment)"
   ]
  },
  {
   "cell_type": "code",
   "execution_count": 35,
   "metadata": {},
   "outputs": [
    {
     "data": {
      "text/plain": [
       "'16'"
      ]
     },
     "execution_count": 35,
     "metadata": {},
     "output_type": "execute_result"
    }
   ],
   "source": [
    "comment.split(\"in season \",1)[1].split()[0].replace(\"?\", \"\")[2:]"
   ]
  },
  {
   "cell_type": "code",
   "execution_count": 20,
   "metadata": {},
   "outputs": [],
   "source": [
    "leaders = category_leaders()\n",
    "assist_leaders = leaders.get_data(stat_cat=\"steals\", season=\"2017-18\")"
   ]
  },
  {
   "cell_type": "code",
   "execution_count": 21,
   "metadata": {},
   "outputs": [
    {
     "data": {
      "text/html": [
       "<div>\n",
       "<table border=\"1\" class=\"dataframe\">\n",
       "  <thead>\n",
       "    <tr style=\"text-align: right;\">\n",
       "      <th></th>\n",
       "      <th>PLAYER_ID</th>\n",
       "      <th>RANK</th>\n",
       "      <th>PLAYER</th>\n",
       "      <th>TEAM</th>\n",
       "      <th>GP</th>\n",
       "      <th>MIN</th>\n",
       "      <th>FGM</th>\n",
       "      <th>FGA</th>\n",
       "      <th>FG_PCT</th>\n",
       "      <th>FG3M</th>\n",
       "      <th>...</th>\n",
       "      <th>REB</th>\n",
       "      <th>AST</th>\n",
       "      <th>STL</th>\n",
       "      <th>BLK</th>\n",
       "      <th>TOV</th>\n",
       "      <th>PF</th>\n",
       "      <th>PTS</th>\n",
       "      <th>EFF</th>\n",
       "      <th>AST_TOV</th>\n",
       "      <th>STL_TOV</th>\n",
       "    </tr>\n",
       "  </thead>\n",
       "  <tbody>\n",
       "    <tr>\n",
       "      <th>0</th>\n",
       "      <td>202331</td>\n",
       "      <td>1</td>\n",
       "      <td>Paul George</td>\n",
       "      <td>OKC</td>\n",
       "      <td>59</td>\n",
       "      <td>2151</td>\n",
       "      <td>443</td>\n",
       "      <td>1000</td>\n",
       "      <td>0.443</td>\n",
       "      <td>193</td>\n",
       "      <td>...</td>\n",
       "      <td>323</td>\n",
       "      <td>189</td>\n",
       "      <td>128</td>\n",
       "      <td>29</td>\n",
       "      <td>155</td>\n",
       "      <td>170</td>\n",
       "      <td>1318</td>\n",
       "      <td>1218</td>\n",
       "      <td>1.22</td>\n",
       "      <td>0.83</td>\n",
       "    </tr>\n",
       "  </tbody>\n",
       "</table>\n",
       "<p>1 rows × 27 columns</p>\n",
       "</div>"
      ],
      "text/plain": [
       "   PLAYER_ID  RANK       PLAYER TEAM  GP   MIN  FGM   FGA  FG_PCT  FG3M  \\\n",
       "0     202331     1  Paul George  OKC  59  2151  443  1000   0.443   193   \n",
       "\n",
       "    ...     REB  AST  STL  BLK  TOV   PF   PTS   EFF  AST_TOV  STL_TOV  \n",
       "0   ...     323  189  128   29  155  170  1318  1218     1.22     0.83  \n",
       "\n",
       "[1 rows x 27 columns]"
      ]
     },
     "execution_count": 21,
     "metadata": {},
     "output_type": "execute_result"
    }
   ],
   "source": [
    "assist_leaders[:1]"
   ]
  },
  {
   "cell_type": "code",
   "execution_count": 11,
   "metadata": {},
   "outputs": [
    {
     "data": {
      "text/plain": [
       "Comment(id='duy2tbe')"
      ]
     },
     "execution_count": 11,
     "metadata": {},
     "output_type": "execute_result"
    }
   ],
   "source": [
    "top_level_comment.reply(\"ay yo\")"
   ]
  }
 ],
 "metadata": {
  "kernelspec": {
   "display_name": "Python 3",
   "language": "python",
   "name": "python3"
  },
  "language_info": {
   "codemirror_mode": {
    "name": "ipython",
    "version": 3
   },
   "file_extension": ".py",
   "mimetype": "text/x-python",
   "name": "python",
   "nbconvert_exporter": "python",
   "pygments_lexer": "ipython3",
   "version": "3.5.2"
  }
 },
 "nbformat": 4,
 "nbformat_minor": 2
}
